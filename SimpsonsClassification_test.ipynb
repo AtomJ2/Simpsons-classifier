{
 "cells": [
  {
   "cell_type": "markdown",
   "id": "60fff5e8-c479-4232-8ec8-135cd4d8d719",
   "metadata": {
    "tags": []
   },
   "source": [
    "# Let's start our work with data:\n",
    "Firstly, wee can see that dataset folder is nested in a folder with the same name. Fix this by moving all character folders to the \"data/simpsons_dataset\".\n",
    "Now find out how many images each class has"
   ]
  },
  {
   "cell_type": "code",
   "execution_count": 1,
   "id": "b1a5cf20-d898-408d-a21d-0897b22f4e63",
   "metadata": {
    "tags": []
   },
   "outputs": [],
   "source": [
    "import numpy as np\n",
    "import torch\n",
    "import torch.nn as nn\n",
    "from torch.utils.data import Dataset, DataLoader\n",
    "import torch.optim as optim\n",
    "from torch.optim import AdamW\n",
    "from torch.optim.lr_scheduler import CosineAnnealingLR\n",
    "from torchvision import transforms, models\n",
    "import torchvision.transforms as transforms\n",
    "from sklearn.preprocessing import LabelEncoder\n",
    "from sklearn.model_selection import train_test_split\n",
    "from sklearn.metrics import confusion_matrix\n",
    "import matplotlib.pyplot as plt\n",
    "import os\n",
    "import cv2\n",
    "import warnings\n",
    "warnings.filterwarnings(\"ignore\")"
   ]
  },
  {
   "cell_type": "code",
   "execution_count": 2,
   "id": "8d8848a6-007d-4122-bc0e-f366bfbeb81a",
   "metadata": {
    "tags": []
   },
   "outputs": [],
   "source": [
    "data_train_path = \"data/simpsons_dataset_copy\"\n",
    "data_test_path = \"data/simpsons_testset\"\n",
    "bs = 256"
   ]
  },
  {
   "cell_type": "code",
   "execution_count": 3,
   "id": "813f0317-637d-410a-8d80-fa1ec265b31b",
   "metadata": {},
   "outputs": [
    {
     "data": {
      "text/plain": [
       "'cuda'"
      ]
     },
     "execution_count": 3,
     "metadata": {},
     "output_type": "execute_result"
    }
   ],
   "source": [
    "device = 'cuda' if torch.cuda.is_available() else 'cpu'\n",
    "device"
   ]
  },
  {
   "cell_type": "code",
   "execution_count": 4,
   "id": "4b41dbbe-b589-4e30-9892-e4e813228f8f",
   "metadata": {},
   "outputs": [],
   "source": [
    "transform = transforms.Compose([\n",
    "                                  transforms.ToTensor(),\n",
    "                                  transforms.ConvertImageDtype(dtype=torch.float32),\n",
    "                                  transforms.Resize([100, 100]),\n",
    "                                  transforms.Normalize(mean=[0.485, 0.456, 0.406], std=[0.229, 0.224, 0.225])]\n",
    "                                  # transforms.Normalize(mean=[0.5], std=[0.25])]\n",
    "                                )\n",
    "\n",
    "characters = {}\n",
    "\n",
    "class_labels = os.listdir(data_train_path)\n",
    "    \n",
    "num_classes = len(class_labels)"
   ]
  },
  {
   "cell_type": "code",
   "execution_count": 5,
   "id": "d08f67c0-d7a2-457b-a8f4-ca662ecb8708",
   "metadata": {},
   "outputs": [
    {
     "name": "stdout",
     "output_type": "stream",
     "text": [
      "[ 0  1  2  3  4  5  6  7  8  9 10 11 12 13 14 15 16 17 18 19 20 21 22 23\n",
      " 24 25 26 27 28 29 30 31 32 33 34 35 36 37 38 39 40]\n",
      "['abraham_grampa_simpson', 'apu_nahasapeemapetilon', 'barney_gumble', 'bart_simpson', 'carl_carlson', 'charles_montgomery_burns', 'chief_wiggum', 'cletus_spuckler', 'comic_book_guy', 'disco_stu', 'edna_krabappel', 'fat_tony', 'gil', 'groundskeeper_willie', 'homer_simpson', 'kent_brockman', 'krusty_the_clown', 'lenny_leonard', 'lionel_hutz', 'lisa_simpson', 'maggie_simpson', 'marge_simpson', 'martin_prince', 'mayor_quimby', 'milhouse_van_houten', 'miss_hoover', 'moe_szyslak', 'ned_flanders', 'nelson_muntz', 'otto_mann', 'patty_bouvier', 'principal_skinner', 'professor_john_frink', 'rainier_wolfcastle', 'ralph_wiggum', 'selma_bouvier', 'sideshow_bob', 'sideshow_mel', 'snake_jailbird', 'troy_mcclure', 'waylon_smithers']\n"
     ]
    }
   ],
   "source": [
    "label_encoder = LabelEncoder()\n",
    "encoded_labels = label_encoder.fit_transform(class_labels)\n",
    "print(encoded_labels)\n",
    "print(class_labels)"
   ]
  },
  {
   "cell_type": "code",
   "execution_count": 6,
   "id": "5b9ec064-986e-4759-adfb-6482e6d3ee82",
   "metadata": {},
   "outputs": [],
   "source": [
    "for i in range(num_classes):\n",
    "    characters[i] = []\n",
    "    folder_path = os.path.join(data_train_path, class_labels[i])\n",
    "    for image in os.listdir(folder_path):\n",
    "        characters[i].append(cv2.imread(os.path.join(folder_path, image)))"
   ]
  },
  {
   "cell_type": "code",
   "execution_count": 7,
   "id": "fa8e33b8-5a0c-4901-bf92-3fe6509583b5",
   "metadata": {},
   "outputs": [],
   "source": [
    "train_data = []\n",
    "val_data = []\n",
    "\n",
    "for character, images in characters.items():\n",
    "    train_images, val_images = train_test_split(images, test_size=0.2, random_state=54)\n",
    "    train_data.extend([(transform(img), character) for img in train_images])\n",
    "    val_data.extend([(transform(img), character) for img in val_images])\n",
    "\n",
    "# Создание DataLoader для train и val данных\n",
    "train_loader = DataLoader(train_data, batch_size=bs, shuffle=True)\n",
    "val_loader = DataLoader(val_data, batch_size=bs, shuffle=True)"
   ]
  },
  {
   "cell_type": "code",
   "execution_count": null,
   "id": "6961e753-1c46-48da-946a-cc9e547222bd",
   "metadata": {},
   "outputs": [],
   "source": []
  },
  {
   "cell_type": "code",
   "execution_count": null,
   "id": "cb172f5c-dd24-4234-870c-c908a8aa68a4",
   "metadata": {},
   "outputs": [],
   "source": []
  },
  {
   "cell_type": "code",
   "execution_count": 8,
   "id": "c2bd29b1-7bdb-4dcf-94a8-fb1b148914b2",
   "metadata": {},
   "outputs": [],
   "source": [
    "class CustomResNet(nn.Module):\n",
    "    def __init__(self, num_classes):\n",
    "        super(CustomResNet, self).__init__()\n",
    "        self.resnet = models.resnet50(pretrained=False)\n",
    "        in_features = self.resnet.fc.in_features\n",
    "        self.resnet.fc = nn.Linear(in_features, num_classes)\n",
    "\n",
    "    def forward(self, x):\n",
    "        return self.resnet(x)"
   ]
  },
  {
   "cell_type": "code",
   "execution_count": null,
   "id": "6d171249-1a96-4e07-8bea-cf392e056b2d",
   "metadata": {},
   "outputs": [],
   "source": []
  },
  {
   "cell_type": "code",
   "execution_count": 9,
   "id": "3f157801-7276-4b42-98dd-57a8785b1c8f",
   "metadata": {},
   "outputs": [],
   "source": [
    "model = CustomResNet(num_classes=num_classes)\n",
    "model = model.to(device)\n",
    "# model.load_state_dict(torch.load('custom_resnet_weights.pth'))\n",
    "criterion = nn.CrossEntropyLoss()"
   ]
  },
  {
   "cell_type": "code",
   "execution_count": 10,
   "id": "a8b3bb89-bdf9-4ff4-9b19-6383f9c4704b",
   "metadata": {},
   "outputs": [
    {
     "name": "stderr",
     "output_type": "stream",
     "text": [
      "Clipping input data to the valid range for imshow with RGB data ([0..1] for floats or [0..255] for integers).\n"
     ]
    },
    {
     "data": {
      "image/png": "[encoded data removed]",
      "text/plain": [
       "<Figure size 640x480 with 1 Axes>"
      ]
     },
     "metadata": {},
     "output_type": "display_data"
    },
    {
     "name": "stdout",
     "output_type": "stream",
     "text": [
      "26\n",
      "['moe_szyslak']\n"
     ]
    }
   ],
   "source": [
    "# Iterate over the train_loader to get the first batch\n",
    "for images, labels in train_loader:\n",
    "    first_image = images[0].numpy()\n",
    "    plt.imshow(np.transpose(first_image, (1, 2, 0)))\n",
    "    plt.axis('off')\n",
    "    plt.show()\n",
    "    # print(labels[0].item().type)\n",
    "    print(labels[0].item())\n",
    "    print(label_encoder.inverse_transform([int(labels[0].item())]))\n",
    "    break"
   ]
  },
  {
   "cell_type": "code",
   "execution_count": 11,
   "id": "540e96ca-6334-42de-909d-abc5c2152c5c",
   "metadata": {},
   "outputs": [
    {
     "name": "stdout",
     "output_type": "stream",
     "text": [
      "Iteration: 94 / 94\n",
      "Epoch: 1, Training loss: 3.1284861843636693, Validation loss: 2.0413401126861572, Average Accuracy: 0.2014854319778209, Average Precision: 0.37133659820053616, Average Recall: 0.3139024381021383, Average F1-score: 0.29569751835226127\n",
      "Iteration: 94 / 94\n",
      "Epoch: 2, Training loss: 1.3126943117760597, Validation loss: 1.1191737651824951, Average Accuracy: 0.5064820058064929, Average Precision: 0.7083031485494397, Average Recall: 0.6453182258978016, Average F1-score: 0.6291658189864855\n",
      "Iteration: 94 / 94\n",
      "Epoch: 3, Training loss: 0.6340651762612323, Validation loss: 0.7813779711723328, Average Accuracy: 0.6960349991937271, Average Precision: 0.8388366167566986, Average Recall: 0.7968895763869048, Average F1-score: 0.7922793310270908\n",
      "Iteration: 94 / 94\n",
      "Epoch: 4, Training loss: 0.3558980147255228, Validation loss: 0.5050901174545288, Average Accuracy: 0.6289541204525075, Average Precision: 0.8105669329361062, Average Recall: 0.7290178406326274, Average F1-score: 0.7305823267470014\n",
      "Iteration: 94 / 94\n",
      "Epoch: 5, Training loss: 0.20883373226574126, Validation loss: 0.30919981002807617, Average Accuracy: 0.8223265024202251, Average Precision: 0.8983759857672339, Average Recall: 0.8985809166123098, Average F1-score: 0.8878318009059385\n",
      "Iteration: 94 / 94\n",
      "Epoch: 6, Training loss: 0.10487847561214833, Validation loss: 0.05075111985206604, Average Accuracy: 0.8485431757531511, Average Precision: 0.9110302083878006, Average Recall: 0.915795649628464, Average F1-score: 0.9048894474643129\n",
      "Iteration: 94 / 94\n",
      "Epoch: 7, Training loss: 0.028861200503826616, Validation loss: 0.1021469384431839, Average Accuracy: 0.8637524679343677, Average Precision: 0.929461450146633, Average Recall: 0.9189515000996653, Average F1-score: 0.9175323279461518\n",
      "Iteration: 94 / 94\n",
      "Epoch: 8, Training loss: 0.009326895785597252, Validation loss: 0.020262114703655243, Average Accuracy: 0.8863314178246721, Average Precision: 0.9358301562972174, Average Recall: 0.9353968479999789, Average F1-score: 0.9299926453883283\n",
      "Iteration: 94 / 94\n",
      "Epoch: 9, Training loss: 0.0026504205263645805, Validation loss: 0.0030484776943922043, Average Accuracy: 0.8935474811859992, Average Precision: 0.9438218365926455, Average Recall: 0.9389684099358988, Average F1-score: 0.9358215088630039\n",
      "Iteration: 94 / 94\n",
      "Epoch: 10, Training loss: 0.001261683715324096, Validation loss: 0.004072398878633976, Average Accuracy: 0.8902175376818735, Average Precision: 0.9414001339279292, Average Recall: 0.935349951863784, Average F1-score: 0.9321585848703945\n"
     ]
    }
   ],
   "source": [
    "optimizer = optim.Adam(model.parameters(), lr=0.001)\n",
    "num_epochs = 10\n",
    "lr_scheduler = CosineAnnealingLR(optimizer, T_max=num_epochs)\n",
    "\n",
    "len_loader = len(train_loader)\n",
    "loss_train_arr = []\n",
    "loss_val_arr = []\n",
    "\n",
    "for epoch in range(num_epochs):\n",
    "    model.train()\n",
    "    i = 1\n",
    "    running_loss = 0.0\n",
    "    for images, labels in train_loader:\n",
    "        print(f'\\rIteration: {i} / {len_loader}', end='', flush=True)\n",
    "        i += 1\n",
    "        images = images.to(device)\n",
    "        labels = labels.to(device)\n",
    "        optimizer.zero_grad()\n",
    "        outputs = model(images)\n",
    "        _, predicted = torch.max(outputs, 1)\n",
    "        # print(predicted)\n",
    "        # print(labels.long())\n",
    "        loss = criterion(outputs, labels.long())\n",
    "        loss.backward()\n",
    "        optimizer.step()\n",
    "        running_loss += loss.item()\n",
    "    lr_scheduler.step()\n",
    "\n",
    "    # Validation\n",
    "    model.eval()\n",
    "    with torch.no_grad():\n",
    "        accuracy_list = []\n",
    "        precision_list = []\n",
    "        recall_list = []\n",
    "        f1_list = []\n",
    "        auc_roc_list = []\n",
    "\n",
    "        for images, labels in val_loader:\n",
    "            images = images.to(device)\n",
    "            labels = labels.to(device)\n",
    "            outputs = model(images)\n",
    "            _, predicted = torch.max(outputs, 1)\n",
    "\n",
    "            predictions_onehot = torch.zeros(len(predicted), 42, device=device)\n",
    "            predictions_onehot.scatter_(1, predicted.unsqueeze(1), 1)\n",
    "\n",
    "            targets_onehot = torch.zeros(len(labels), 42, device=device)\n",
    "            targets_onehot.scatter_(1, labels.unsqueeze(1), 1)\n",
    "\n",
    "            conf_matrix = confusion_matrix(targets_onehot.cpu().numpy().argmax(axis=1), predictions_onehot.cpu().numpy().argmax(axis=1))\n",
    "\n",
    "            for class_idx in range(conf_matrix.shape[0]):\n",
    "                TP = conf_matrix[class_idx, class_idx]\n",
    "                FP = conf_matrix[:, class_idx].sum() - TP\n",
    "                FN = conf_matrix[class_idx, :].sum() - TP\n",
    "\n",
    "                accuracy = TP / (TP + FP + FN)\n",
    "                precision = TP / (TP + FP) if TP + FP != 0 else 0\n",
    "                recall = TP / (TP + FN) if TP + FN != 0 else 0\n",
    "                f1_score = 2 * (precision * recall) / (precision + recall) if precision + recall != 0 else 0\n",
    "\n",
    "                # print(f'Class {class_idx}: Accuracy: {accuracy}, Precision: {precision}, Recall: {recall}, F1-score: {f1_score}')\n",
    "\n",
    "                accuracy_list.append(accuracy)\n",
    "                precision_list.append(precision)\n",
    "                recall_list.append(recall)\n",
    "                f1_list.append(f1_score)\n",
    "\n",
    "        avg_accuracy = sum(accuracy_list) / len(accuracy_list)\n",
    "        avg_precision = sum(precision_list) / len(precision_list)\n",
    "        avg_recall = sum(recall_list) / len(recall_list)\n",
    "        avg_f1 = sum(f1_list) / len(f1_list)\n",
    "\n",
    "        train_loss = running_loss/len(train_loader)\n",
    "        val_loss = loss.item()\n",
    "        print(f'\\nEpoch: {epoch+1}, Training loss: {train_loss}, Validation loss: {val_loss}, Average Accuracy: {avg_accuracy}, Average Precision: {avg_precision}, Average Recall: {avg_recall}, Average F1-score: {avg_f1}')\n",
    "        loss_val_arr.append(val_loss)\n",
    "        loss_train_arr.append(train_loss)"
   ]
  },
  {
   "cell_type": "code",
   "execution_count": 12,
   "id": "15daa9d6-afcd-4692-8805-042063cc5a37",
   "metadata": {},
   "outputs": [],
   "source": [
    "torch.save(model.state_dict(), 'custom_resnet_weights.pth')"
   ]
  },
  {
   "cell_type": "code",
   "execution_count": 13,
   "id": "5fa9db93-3253-4cc9-befd-6356c1d6a618",
   "metadata": {},
   "outputs": [],
   "source": [
    "class CustomDataset(Dataset):\n",
    "    def __init__(self, images, labels, transform=None):\n",
    "        self.images = images\n",
    "        self.labels = labels\n",
    "        self.transform = transform\n",
    "\n",
    "    def __len__(self):\n",
    "        return len(self.images)\n",
    "\n",
    "    def __getitem__(self, idx):\n",
    "        image = self.images[idx]\n",
    "        label = self.labels[idx]\n",
    "\n",
    "        if self.transform:\n",
    "            image = self.transform(image)\n",
    "\n",
    "        return image, label"
   ]
  },
  {
   "cell_type": "code",
   "execution_count": 14,
   "id": "c948deab-7e39-4fd2-a25d-7f637728b3d9",
   "metadata": {},
   "outputs": [],
   "source": [
    "X_test = []\n",
    "y_test = []\n",
    "\n",
    "for file in os.listdir(data_test_path):\n",
    "    y_test.append('_'.join(file.split('_')[:-1]))\n",
    "    X_test.append(cv2.imread(os.path.join(data_test_path, file)))\n",
    "\n",
    "X_test = [transform(image) for image in X_test]\n",
    "y_test = label_encoder.transform(y_test)\n",
    "y_test = y_test.astype(np.int64)"
   ]
  },
  {
   "cell_type": "code",
   "execution_count": 15,
   "id": "67beb2e9-8d2e-4d88-b50c-f1ada2bd3274",
   "metadata": {},
   "outputs": [],
   "source": [
    "transform_test = transforms.Compose([\n",
    "                                  transforms.ConvertImageDtype(dtype=torch.float32),\n",
    "                                  transforms.Resize([100, 100]),\n",
    "                                  transforms.Normalize(mean=[0.485, 0.456, 0.406], std=[0.229, 0.224, 0.225])]\n",
    "                                  # transforms.Normalize(mean=[0.5], std=[0.25])]\n",
    "                                )"
   ]
  },
  {
   "cell_type": "code",
   "execution_count": 16,
   "id": "bc7c7ab7-a13c-4adf-9519-91108bf8aa73",
   "metadata": {},
   "outputs": [],
   "source": [
    "custom_dataset = CustomDataset(images=X_test, labels=y_test, transform=transform_test)"
   ]
  },
  {
   "cell_type": "code",
   "execution_count": 17,
   "id": "e9987d20-47f6-4e3e-8ebb-3c2ab454d30d",
   "metadata": {},
   "outputs": [],
   "source": [
    "test_loader = DataLoader(custom_dataset, batch_size=bs, shuffle=True)"
   ]
  },
  {
   "cell_type": "code",
   "execution_count": 18,
   "id": "d809faee-b781-41ad-98a8-b8498ef6b0af",
   "metadata": {},
   "outputs": [
    {
     "name": "stdout",
     "output_type": "stream",
     "text": [
      "Class 0: Accuracy: 0.0, Precision: 0, Recall: 0.0, F1-score: 0\n",
      "Class 1: Accuracy: 0.0, Precision: 0, Recall: 0.0, F1-score: 0\n",
      "Class 2: Accuracy: 0.0, Precision: 0, Recall: 0.0, F1-score: 0\n",
      "Class 3: Accuracy: 0.0, Precision: 0.0, Recall: 0.0, F1-score: 0\n",
      "Class 4: Accuracy: 0.0, Precision: 0, Recall: 0.0, F1-score: 0\n",
      "Class 5: Accuracy: 0.0, Precision: 0, Recall: 0.0, F1-score: 0\n",
      "Class 6: Accuracy: 0.0, Precision: 0, Recall: 0.0, F1-score: 0\n",
      "Class 7: Accuracy: 0.0, Precision: 0, Recall: 0.0, F1-score: 0\n",
      "Class 8: Accuracy: 0.0, Precision: 0, Recall: 0.0, F1-score: 0\n",
      "Class 9: Accuracy: 0.0, Precision: 0, Recall: 0.0, F1-score: 0\n",
      "Class 10: Accuracy: 0.0, Precision: 0, Recall: 0.0, F1-score: 0\n",
      "Class 11: Accuracy: 0.05128205128205128, Precision: 0.05263157894736842, Recall: 0.6666666666666666, F1-score: 0.09756097560975609\n",
      "Class 12: Accuracy: 0.18518518518518517, Precision: 0.29411764705882354, Recall: 0.3333333333333333, F1-score: 0.3125\n",
      "Class 13: Accuracy: 0.0, Precision: 0, Recall: 0.0, F1-score: 0\n",
      "Class 14: Accuracy: 0.06521739130434782, Precision: 0.07058823529411765, Recall: 0.46153846153846156, F1-score: 0.12244897959183675\n",
      "Class 15: Accuracy: 0.0, Precision: 0, Recall: 0.0, F1-score: 0\n",
      "Class 16: Accuracy: 0.0, Precision: 0, Recall: 0.0, F1-score: 0\n",
      "Class 17: Accuracy: 0.0, Precision: 0, Recall: 0.0, F1-score: 0\n",
      "Class 18: Accuracy: 0.0, Precision: 0, Recall: 0.0, F1-score: 0\n",
      "Class 19: Accuracy: 0.0, Precision: 0, Recall: 0.0, F1-score: 0\n",
      "Class 0: Accuracy: 0.0, Precision: 0, Recall: 0.0, F1-score: 0\n",
      "Class 1: Accuracy: 0.0, Precision: 0, Recall: 0.0, F1-score: 0\n",
      "Class 2: Accuracy: 0.0, Precision: 0, Recall: 0.0, F1-score: 0\n",
      "Class 3: Accuracy: 0.0, Precision: 0.0, Recall: 0.0, F1-score: 0\n",
      "Class 4: Accuracy: 0.0, Precision: 0, Recall: 0.0, F1-score: 0\n",
      "Class 5: Accuracy: 0.0, Precision: 0, Recall: 0.0, F1-score: 0\n",
      "Class 6: Accuracy: 0.0, Precision: 0, Recall: 0.0, F1-score: 0\n",
      "Class 7: Accuracy: 0.0, Precision: 0, Recall: 0.0, F1-score: 0\n",
      "Class 8: Accuracy: 0.0, Precision: 0, Recall: 0.0, F1-score: 0\n",
      "Class 9: Accuracy: 0.0, Precision: 0, Recall: 0.0, F1-score: 0\n",
      "Class 10: Accuracy: 0.0, Precision: 0, Recall: 0.0, F1-score: 0\n",
      "Class 11: Accuracy: 0.040268456375838924, Precision: 0.04081632653061224, Recall: 0.75, F1-score: 0.07741935483870967\n",
      "Class 12: Accuracy: 0.04, Precision: 0.058823529411764705, Recall: 0.1111111111111111, F1-score: 0.07692307692307691\n",
      "Class 13: Accuracy: 0.0, Precision: 0, Recall: 0.0, F1-score: 0\n",
      "Class 14: Accuracy: 0.08421052631578947, Precision: 0.08791208791208792, Recall: 0.6666666666666666, F1-score: 0.15533980582524273\n",
      "Class 15: Accuracy: 0.0, Precision: 0, Recall: 0.0, F1-score: 0\n",
      "Class 16: Accuracy: 0.0, Precision: 0, Recall: 0.0, F1-score: 0\n",
      "Class 17: Accuracy: 0.0, Precision: 0, Recall: 0.0, F1-score: 0\n",
      "Class 18: Accuracy: 0.0, Precision: 0, Recall: 0.0, F1-score: 0\n",
      "Class 19: Accuracy: 0.0, Precision: 0, Recall: 0.0, F1-score: 0\n",
      "Class 0: Accuracy: 0.0, Precision: 0, Recall: 0.0, F1-score: 0\n",
      "Class 1: Accuracy: 0.0, Precision: 0, Recall: 0.0, F1-score: 0\n",
      "Class 2: Accuracy: 0.0, Precision: 0, Recall: 0.0, F1-score: 0\n",
      "Class 3: Accuracy: 0.0, Precision: 0, Recall: 0.0, F1-score: 0\n",
      "Class 4: Accuracy: 0.0, Precision: 0.0, Recall: 0.0, F1-score: 0\n",
      "Class 5: Accuracy: 0.0, Precision: 0, Recall: 0.0, F1-score: 0\n",
      "Class 6: Accuracy: 0.0, Precision: 0, Recall: 0.0, F1-score: 0\n",
      "Class 7: Accuracy: 0.0, Precision: 0, Recall: 0.0, F1-score: 0\n",
      "Class 8: Accuracy: 0.0, Precision: 0, Recall: 0.0, F1-score: 0\n",
      "Class 9: Accuracy: 0.0, Precision: 0, Recall: 0.0, F1-score: 0\n",
      "Class 10: Accuracy: 0.0, Precision: 0, Recall: 0.0, F1-score: 0\n",
      "Class 11: Accuracy: 0.11764705882352941, Precision: 0.11920529801324503, Recall: 0.9, F1-score: 0.21052631578947367\n",
      "Class 12: Accuracy: 0.17391304347826086, Precision: 0.3333333333333333, Recall: 0.26666666666666666, F1-score: 0.2962962962962963\n",
      "Class 13: Accuracy: 0.0, Precision: 0, Recall: 0.0, F1-score: 0\n",
      "Class 14: Accuracy: 0.08333333333333333, Precision: 0.08695652173913043, Recall: 0.6666666666666666, F1-score: 0.15384615384615383\n",
      "Class 15: Accuracy: 0.0, Precision: 0, Recall: 0.0, F1-score: 0\n",
      "Class 16: Accuracy: 0.0, Precision: 0, Recall: 0.0, F1-score: 0\n",
      "Class 17: Accuracy: 0.0, Precision: 0, Recall: 0.0, F1-score: 0\n",
      "Class 18: Accuracy: 0.0, Precision: 0, Recall: 0.0, F1-score: 0\n",
      "Class 19: Accuracy: 0.0, Precision: 0, Recall: 0.0, F1-score: 0\n",
      "Class 0: Accuracy: 0.0, Precision: 0, Recall: 0.0, F1-score: 0\n",
      "Class 1: Accuracy: 0.0, Precision: 0, Recall: 0.0, F1-score: 0\n",
      "Class 2: Accuracy: 0.0, Precision: 0, Recall: 0.0, F1-score: 0\n",
      "Class 3: Accuracy: 0.0, Precision: 0.0, Recall: 0.0, F1-score: 0\n",
      "Class 4: Accuracy: 0.0, Precision: 0.0, Recall: 0.0, F1-score: 0\n",
      "Class 5: Accuracy: 0.0, Precision: 0, Recall: 0.0, F1-score: 0\n",
      "Class 6: Accuracy: 0.0, Precision: 0, Recall: 0.0, F1-score: 0\n",
      "Class 7: Accuracy: 0.0, Precision: 0, Recall: 0.0, F1-score: 0\n",
      "Class 8: Accuracy: 0.0, Precision: 0, Recall: 0.0, F1-score: 0\n",
      "Class 9: Accuracy: 0.0, Precision: 0, Recall: 0.0, F1-score: 0\n",
      "Class 10: Accuracy: 0.0, Precision: 0, Recall: 0.0, F1-score: 0\n",
      "Class 11: Accuracy: 0.044444444444444446, Precision: 0.04580152671755725, Recall: 0.6, F1-score: 0.08510638297872342\n",
      "Class 12: Accuracy: 0.1, Precision: 0.18181818181818182, Recall: 0.18181818181818182, F1-score: 0.18181818181818182\n",
      "Class 13: Accuracy: 0.0, Precision: 0, Recall: 0.0, F1-score: 0\n",
      "Class 14: Accuracy: 0.1111111111111111, Precision: 0.11538461538461539, Recall: 0.75, F1-score: 0.19999999999999998\n",
      "Class 15: Accuracy: 0.0, Precision: 0, Recall: 0.0, F1-score: 0\n",
      "Class 16: Accuracy: 0.0, Precision: 0, Recall: 0.0, F1-score: 0\n",
      "Class 17: Accuracy: 0.0, Precision: 0, Recall: 0.0, F1-score: 0\n",
      "Class 18: Accuracy: 0.0, Precision: 0, Recall: 0.0, F1-score: 0\n",
      "Class 19: Accuracy: 0.0, Precision: 0, Recall: 0.0, F1-score: 0\n",
      "\n",
      "Average Accuracy: 0.013707657520673646, Average Precision: 0.018592361027010472, Average Recall: 0.07943084693084693, Average F1-score: 0.02462231904396814\n"
     ]
    }
   ],
   "source": [
    "model.eval()\n",
    "loss_test_arr = []\n",
    "with torch.no_grad():\n",
    "    accuracy_list = []\n",
    "    precision_list = []\n",
    "    recall_list = []\n",
    "    f1_list = []\n",
    "    \n",
    "    for images, labels in test_loader:\n",
    "            \n",
    "        images = images.to(device)\n",
    "        labels = labels.to(device)\n",
    "        outputs = model(images)\n",
    "        _, predicted = torch.max(outputs, 1)\n",
    "        loss = criterion(outputs, labels.long())\n",
    "        loss_test_arr.append(loss.item())\n",
    "        \n",
    "        predictions_onehot = torch.zeros(len(predicted), num_classes, device=device)\n",
    "        predictions_onehot.scatter_(1, predicted.unsqueeze(1), 1)\n",
    "\n",
    "        targets_onehot = torch.zeros(len(labels), num_classes, device=device)\n",
    "        targets_onehot.scatter_(1, labels.unsqueeze(1), 1)\n",
    "\n",
    "        conf_matrix = confusion_matrix(targets_onehot.cpu().numpy().argmax(axis=1), predictions_onehot.cpu().numpy().argmax(axis=1))\n",
    "\n",
    "        for class_idx in range(conf_matrix.shape[0]):\n",
    "            TP = conf_matrix[class_idx, class_idx]\n",
    "            FP = conf_matrix[:, class_idx].sum() - TP\n",
    "            FN = conf_matrix[class_idx, :].sum() - TP\n",
    "\n",
    "            accuracy = TP / (TP + FP + FN)\n",
    "            precision = TP / (TP + FP) if TP + FP != 0 else 0\n",
    "            recall = TP / (TP + FN) if TP + FN != 0 else 0\n",
    "            f1_score = 2 * (precision * recall) / (precision + recall) if precision + recall != 0 else 0\n",
    "\n",
    "            print(f'Class {class_idx}: Accuracy: {accuracy}, Precision: {precision}, Recall: {recall}, F1-score: {f1_score}')\n",
    "\n",
    "            accuracy_list.append(accuracy)\n",
    "            precision_list.append(precision)\n",
    "            recall_list.append(recall)\n",
    "            f1_list.append(f1_score)\n",
    "\n",
    "    avg_accuracy = sum(accuracy_list) / len(accuracy_list)\n",
    "    avg_precision = sum(precision_list) / len(precision_list)\n",
    "    avg_recall = sum(recall_list) / len(recall_list)\n",
    "    avg_f1 = sum(f1_list) / len(f1_list)\n",
    "\n",
    "    print(f'\\nAverage Accuracy: {avg_accuracy}, Average Precision: {avg_precision}, Average Recall: {avg_recall}, Average F1-score: {avg_f1}')"
   ]
  },
  {
   "cell_type": "code",
   "execution_count": 19,
   "id": "3e8b3670-dc02-4b65-8c80-b7387a10b09f",
   "metadata": {},
   "outputs": [],
   "source": [
    "def plot_graph(data_list):\n",
    "    plt.plot(data_list)\n",
    "    plt.show()"
   ]
  },
  {
   "cell_type": "code",
   "execution_count": 20,
   "id": "658d2c54-a929-407b-b065-27ff88161219",
   "metadata": {},
   "outputs": [
    {
     "name": "stdout",
     "output_type": "stream",
     "text": [
      "test loss\n"
     ]
    },
    {
     "data": {
      "image/png": "[encoded data removed]",
      "text/plain": [
       "<Figure size 640x480 with 1 Axes>"
      ]
     },
     "metadata": {},
     "output_type": "display_data"
    },
    {
     "name": "stdout",
     "output_type": "stream",
     "text": [
      "train loss\n"
     ]
    },
    {
     "data": {
      "image/png": "[encoded data removed]",
      "text/plain": [
       "<Figure size 640x480 with 1 Axes>"
      ]
     },
     "metadata": {},
     "output_type": "display_data"
    },
    {
     "name": "stdout",
     "output_type": "stream",
     "text": [
      "val loss\n"
     ]
    },
    {
     "data": {
      "image/png": "[encoded data removed]",
      "text/plain": [
       "<Figure size 640x480 with 1 Axes>"
      ]
     },
     "metadata": {},
     "output_type": "display_data"
    }
   ],
   "source": [
    "print('test loss')\n",
    "plot_graph(loss_test_arr)\n",
    "print('train loss')\n",
    "plot_graph(loss_train_arr)\n",
    "print('val loss')\n",
    "plot_graph(loss_val_arr)"
   ]
  },
  {
   "cell_type": "code",
   "execution_count": 28,
   "id": "7da3acaf-a6e5-4ed1-82af-2806c23003c8",
   "metadata": {},
   "outputs": [
    {
     "name": "stdout",
     "output_type": "stream",
     "text": [
      "0 913\n",
      "1 623\n",
      "2 520\n",
      "3 1342\n",
      "4 512\n",
      "5 1193\n",
      "6 986\n",
      "7 507\n",
      "8 515\n",
      "9 192\n",
      "10 503\n",
      "11 510\n",
      "12 510\n",
      "13 512\n",
      "14 2246\n",
      "15 521\n",
      "16 1206\n",
      "17 517\n",
      "18 72\n",
      "19 1354\n",
      "20 519\n",
      "21 1291\n",
      "22 508\n",
      "23 522\n",
      "24 1079\n",
      "25 408\n",
      "26 1452\n",
      "27 1454\n",
      "28 519\n",
      "29 515\n",
      "30 509\n",
      "31 1194\n",
      "32 502\n",
      "33 505\n",
      "34 503\n",
      "35 517\n",
      "36 877\n",
      "37 500\n",
      "38 515\n",
      "39 192\n",
      "40 503\n"
     ]
    }
   ],
   "source": [
    "len_total = 0\n",
    "for i in range(len(characters)):\n",
    "    print(i, len(characters[i]))\n",
    "    len_total += len(characters[i])"
   ]
  },
  {
   "cell_type": "code",
   "execution_count": 11,
   "id": "d28b8a79-74d6-4288-865c-835476e9762c",
   "metadata": {},
   "outputs": [
    {
     "ename": "KeyboardInterrupt",
     "evalue": "",
     "output_type": "error",
     "traceback": [
      "\u001b[1;31m---------------------------------------------------------------------------\u001b[0m",
      "\u001b[1;31mKeyboardInterrupt\u001b[0m                         Traceback (most recent call last)",
      "Cell \u001b[1;32mIn[11], line 7\u001b[0m\n\u001b[0;32m      5\u001b[0m folder_path \u001b[38;5;241m=\u001b[39m os\u001b[38;5;241m.\u001b[39mpath\u001b[38;5;241m.\u001b[39mjoin(data_train_path, folder)\n\u001b[0;32m      6\u001b[0m \u001b[38;5;28;01mfor\u001b[39;00m image \u001b[38;5;129;01min\u001b[39;00m os\u001b[38;5;241m.\u001b[39mlistdir(folder_path):\n\u001b[1;32m----> 7\u001b[0m     characters[folder]\u001b[38;5;241m.\u001b[39mappend(\u001b[43mcv2\u001b[49m\u001b[38;5;241;43m.\u001b[39;49m\u001b[43mimread\u001b[49m\u001b[43m(\u001b[49m\u001b[43mos\u001b[49m\u001b[38;5;241;43m.\u001b[39;49m\u001b[43mpath\u001b[49m\u001b[38;5;241;43m.\u001b[39;49m\u001b[43mjoin\u001b[49m\u001b[43m(\u001b[49m\u001b[43mfolder_path\u001b[49m\u001b[43m,\u001b[49m\u001b[43m \u001b[49m\u001b[43mimage\u001b[49m\u001b[43m)\u001b[49m\u001b[43m)\u001b[49m)\n",
      "\u001b[1;31mKeyboardInterrupt\u001b[0m: "
     ]
    }
   ],
   "source": [
    "# Validation\n",
    "model.eval()\n",
    "with torch.no_grad():\n",
    "    accuracy_list = []\n",
    "    precision_list = []\n",
    "    recall_list = []\n",
    "    f1_list = []\n",
    "    auc_roc_list = []\n",
    "\n",
    "    for images, labels in val_loader:\n",
    "        images = images.to(device)\n",
    "        labels = labels.to(device)\n",
    "        outputs = model(images)\n",
    "        _, predicted = torch.max(outputs, 1)\n",
    "\n",
    "        predictions_onehot = torch.zeros(len(predicted), 42, device=device)\n",
    "        predictions_onehot.scatter_(1, predicted.unsqueeze(1), 1)\n",
    "\n",
    "        targets_onehot = torch.zeros(len(labels), 42, device=device)\n",
    "        targets_onehot.scatter_(1, labels.unsqueeze(1), 1)\n",
    "\n",
    "        conf_matrix = confusion_matrix(targets_onehot.cpu().numpy().argmax(axis=1), predictions_onehot.cpu().numpy().argmax(axis=1))\n",
    "\n",
    "        for class_idx in range(conf_matrix.shape[0]):\n",
    "            TP = conf_matrix[class_idx, class_idx]\n",
    "            FP = conf_matrix[:, class_idx].sum() - TP\n",
    "            FN = conf_matrix[class_idx, :].sum() - TP\n",
    "\n",
    "            accuracy = TP / (TP + FP + FN)\n",
    "            precision = TP / (TP + FP) if TP + FP != 0 else 0\n",
    "            recall = TP / (TP + FN) if TP + FN != 0 else 0\n",
    "            f1_score = 2 * (precision * recall) / (precision + recall) if precision + recall != 0 else 0\n",
    "\n",
    "            # print(f'Class {class_idx}: Accuracy: {accuracy}, Precision: {precision}, Recall: {recall}, F1-score: {f1_score}')\n",
    "\n",
    "            accuracy_list.append(accuracy)\n",
    "            precision_list.append(precision)\n",
    "            recall_list.append(recall)\n",
    "            f1_list.append(f1_score)\n",
    "\n",
    "        avg_accuracy = sum(accuracy_list) / len(accuracy_list)\n",
    "        avg_precision = sum(precision_list) / len(precision_list)\n",
    "        avg_recall = sum(recall_list) / len(recall_list)\n",
    "        avg_f1 = sum(f1_list) / len(f1_list)\n",
    "\n",
    "    print(f'\\nEpoch: {epoch+1}, Validation loss: {loss.item()}, Average Accuracy: {avg_accuracy}, Average Precision: {avg_precision}, Average Recall: {avg_recall}, Average F1-score: {avg_f1}')"
   ]
  },
  {
   "cell_type": "code",
   "execution_count": 21,
   "id": "0ced2d2d-c42e-4bcb-b322-9ec822944427",
   "metadata": {},
   "outputs": [
    {
     "name": "stderr",
     "output_type": "stream",
     "text": [
      "Clipping input data to the valid range for imshow with RGB data ([0..1] for floats or [0..255] for integers).\n"
     ]
    },
    {
     "data": {
      "image/png": "[encoded data removed]",
      "text/plain": [
       "<Figure size 640x480 with 1 Axes>"
      ]
     },
     "metadata": {},
     "output_type": "display_data"
    },
    {
     "name": "stdout",
     "output_type": "stream",
     "text": [
      "38\n",
      "['snake_jailbird']\n"
     ]
    }
   ],
   "source": [
    "# Iterate over the train_loader to get the first batch\n",
    "for images, labels in train_loader:\n",
    "    first_image = images[0].numpy()\n",
    "    plt.imshow(np.transpose(first_image, (1, 2, 0)))\n",
    "    plt.axis('off')\n",
    "    plt.show()\n",
    "    # print(labels[0].item().type)\n",
    "    print(labels[0].item())\n",
    "    print(label_encoder.inverse_transform([int(labels[0].item())]))\n",
    "    break"
   ]
  },
  {
   "cell_type": "code",
   "execution_count": 27,
   "id": "9ab32502-11d6-4ca8-b80c-014f20682de6",
   "metadata": {},
   "outputs": [
    {
     "name": "stderr",
     "output_type": "stream",
     "text": [
      "Clipping input data to the valid range for imshow with RGB data ([0..1] for floats or [0..255] for integers).\n"
     ]
    },
    {
     "name": "stdout",
     "output_type": "stream",
     "text": [
      "tensor(19, device='cuda:0')\n"
     ]
    },
    {
     "data": {
      "image/png": "[encoded data removed]",
      "text/plain": [
       "<Figure size 640x480 with 1 Axes>"
      ]
     },
     "metadata": {},
     "output_type": "display_data"
    },
    {
     "name": "stdout",
     "output_type": "stream",
     "text": [
      "23\n",
      "['mayor_quimby']\n"
     ]
    }
   ],
   "source": [
    "# Iterate over the train_loader to get the first batch\n",
    "for images, labels in test_loader:\n",
    "    first_image = images[0].numpy()\n",
    "    \n",
    "    images = images.to(device)\n",
    "    labels = labels.to(device)\n",
    "    outputs = model(images)\n",
    "    _, predicted = torch.max(outputs, 1)\n",
    "\n",
    "    print(predicted[0])\n",
    "    \n",
    "    plt.imshow(np.transpose(first_image, (1, 2, 0)))\n",
    "    plt.axis('off')\n",
    "    plt.show()\n",
    "    # print(labels[0].item().type)\n",
    "    print(labels[0].item())\n",
    "    print(label_encoder.inverse_transform([int(labels[0].item())]))\n",
    "    break"
   ]
  },
  {
   "cell_type": "code",
   "execution_count": null,
   "id": "23e5d37a-c6d4-46e2-b0f7-b5da4d968e6e",
   "metadata": {},
   "outputs": [],
   "source": []
  }
 ],
 "metadata": {
  "kernelspec": {
   "display_name": "Python 3 (ipykernel)",
   "language": "python",
   "name": "python3"
  },
  "language_info": {
   "codemirror_mode": {
    "name": "ipython",
    "version": 3
   },
   "file_extension": ".py",
   "mimetype": "text/x-python",
   "name": "python",
   "nbconvert_exporter": "python",
   "pygments_lexer": "ipython3",
   "version": "3.12.0"
  }
 },
 "nbformat": 4,
 "nbformat_minor": 5
}
